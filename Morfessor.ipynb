{
 "cells": [
  {
   "cell_type": "code",
   "execution_count": 1,
   "id": "453dd113",
   "metadata": {},
   "outputs": [],
   "source": [
    "import math\n",
    "import codecs\n",
    "import morfessor\n",
    "import re"
   ]
  },
  {
   "cell_type": "code",
   "execution_count": 2,
   "id": "0a6b2515",
   "metadata": {},
   "outputs": [],
   "source": [
    "txt = codecs.open(\"Normalized.txt\", \"r\", \"utf-8\").read()\n",
    "words = txt.split()"
   ]
  },
  {
   "cell_type": "code",
   "execution_count": 15,
   "id": "7c4076f4",
   "metadata": {},
   "outputs": [],
   "source": [
    "outfile = open(\"words\", \"w\",encoding='utf8')\n",
    "for word in words:\n",
    "    outfile.write(word+\"\\n\")\n",
    "outfile.close()"
   ]
  },
  {
   "cell_type": "code",
   "execution_count": 16,
   "id": "336d3b5d",
   "metadata": {},
   "outputs": [
    {
     "name": "stderr",
     "output_type": "stream",
     "text": [
      "...........................................................\n",
      "...........................................................\n",
      "...........................................................\n",
      "...........................................................\n",
      "...........................................................\n",
      "...........................................................\n"
     ]
    }
   ],
   "source": [
    "# function for adjusting the counts of each compound\n",
    "def log_func(x):\n",
    "    return int(round(math.log(x + 1, 2)))\n",
    "\n",
    "infile = \"words\"\n",
    "io = morfessor.MorfessorIO()\n",
    "train_data = list(io.read_corpus_file(infile))\n",
    "model = morfessor.BaselineModel()\n",
    "model.load_data(train_data, count_modifier=log_func)\n",
    "model.train_batch()\n",
    "io.write_binary_model_file(\"model.bin\", model)"
   ]
  },
  {
   "cell_type": "code",
   "execution_count": 9,
   "id": "693d1b73",
   "metadata": {},
   "outputs": [
    {
     "name": "stdout",
     "output_type": "stream",
     "text": [
      "Input word > የስንብት\n",
      "['የ', 'ስንብት']\n"
     ]
    }
   ],
   "source": [
    "import morfessor\n",
    "\n",
    "model_file = \"model.bin\"\n",
    "io = morfessor.MorfessorIO()\n",
    "model = io.read_binary_model_file(model_file)\n",
    "\n",
    "word = input(\"Input word > \")\n",
    "# for segmenting new words we use the viterbi_segment(compound) method\n",
    "print(model.viterbi_segment(word)[0])"
   ]
  },
  {
   "cell_type": "code",
   "execution_count": 22,
   "id": "6a0a15b7",
   "metadata": {},
   "outputs": [
    {
     "data": {
      "text/plain": [
       "2529219"
      ]
     },
     "execution_count": 22,
     "metadata": {},
     "output_type": "execute_result"
    }
   ],
   "source": [
    "len(words)"
   ]
  }
 ],
 "metadata": {
  "kernelspec": {
   "display_name": "Python 3 (ipykernel)",
   "language": "python",
   "name": "python3"
  },
  "language_info": {
   "codemirror_mode": {
    "name": "ipython",
    "version": 3
   },
   "file_extension": ".py",
   "mimetype": "text/x-python",
   "name": "python",
   "nbconvert_exporter": "python",
   "pygments_lexer": "ipython3",
   "version": "3.9.13"
  }
 },
 "nbformat": 4,
 "nbformat_minor": 5
}
